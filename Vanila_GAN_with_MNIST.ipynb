{
  "nbformat": 4,
  "nbformat_minor": 0,
  "metadata": {
    "colab": {
      "name": "Vanila_GAN_with_MNIST.ipynb",
      "provenance": [],
      "authorship_tag": "ABX9TyOL5afEJqoh10x00y4hrCnw",
      "include_colab_link": true
    },
    "kernelspec": {
      "name": "python3",
      "display_name": "Python 3"
    },
    "widgets": {
      "application/vnd.jupyter.widget-state+json": {
        "506bd965cbfb428e87344815f4cafc94": {
          "model_module": "@jupyter-widgets/controls",
          "model_name": "HBoxModel",
          "state": {
            "_view_name": "HBoxView",
            "_dom_classes": [],
            "_model_name": "HBoxModel",
            "_view_module": "@jupyter-widgets/controls",
            "_model_module_version": "1.5.0",
            "_view_count": null,
            "_view_module_version": "1.5.0",
            "box_style": "",
            "layout": "IPY_MODEL_b9f5897413bf409aa7f66384c176e538",
            "_model_module": "@jupyter-widgets/controls",
            "children": [
              "IPY_MODEL_6520e03e935e496c8476e664cb460a57",
              "IPY_MODEL_98a774af615242998f5a0711180aa20f"
            ]
          }
        },
        "b9f5897413bf409aa7f66384c176e538": {
          "model_module": "@jupyter-widgets/base",
          "model_name": "LayoutModel",
          "state": {
            "_view_name": "LayoutView",
            "grid_template_rows": null,
            "right": null,
            "justify_content": null,
            "_view_module": "@jupyter-widgets/base",
            "overflow": null,
            "_model_module_version": "1.2.0",
            "_view_count": null,
            "flex_flow": null,
            "width": null,
            "min_width": null,
            "border": null,
            "align_items": null,
            "bottom": null,
            "_model_module": "@jupyter-widgets/base",
            "top": null,
            "grid_column": null,
            "overflow_y": null,
            "overflow_x": null,
            "grid_auto_flow": null,
            "grid_area": null,
            "grid_template_columns": null,
            "flex": null,
            "_model_name": "LayoutModel",
            "justify_items": null,
            "grid_row": null,
            "max_height": null,
            "align_content": null,
            "visibility": null,
            "align_self": null,
            "height": null,
            "min_height": null,
            "padding": null,
            "grid_auto_rows": null,
            "grid_gap": null,
            "max_width": null,
            "order": null,
            "_view_module_version": "1.2.0",
            "grid_template_areas": null,
            "object_position": null,
            "object_fit": null,
            "grid_auto_columns": null,
            "margin": null,
            "display": null,
            "left": null
          }
        },
        "6520e03e935e496c8476e664cb460a57": {
          "model_module": "@jupyter-widgets/controls",
          "model_name": "FloatProgressModel",
          "state": {
            "_view_name": "ProgressView",
            "style": "IPY_MODEL_9eeb5ca159dd45d3a932bb494492a607",
            "_dom_classes": [],
            "description": "100%",
            "_model_name": "FloatProgressModel",
            "bar_style": "success",
            "max": 117,
            "_view_module": "@jupyter-widgets/controls",
            "_model_module_version": "1.5.0",
            "value": 117,
            "_view_count": null,
            "_view_module_version": "1.5.0",
            "orientation": "horizontal",
            "min": 0,
            "description_tooltip": null,
            "_model_module": "@jupyter-widgets/controls",
            "layout": "IPY_MODEL_007541955c6f4fe282536c3b119c2901"
          }
        },
        "98a774af615242998f5a0711180aa20f": {
          "model_module": "@jupyter-widgets/controls",
          "model_name": "HTMLModel",
          "state": {
            "_view_name": "HTMLView",
            "style": "IPY_MODEL_93e4726d1ae143978e2b047f80906bc1",
            "_dom_classes": [],
            "description": "",
            "_model_name": "HTMLModel",
            "placeholder": "​",
            "_view_module": "@jupyter-widgets/controls",
            "_model_module_version": "1.5.0",
            "value": " 117/117 [01:26&lt;00:00,  1.36it/s]",
            "_view_count": null,
            "_view_module_version": "1.5.0",
            "description_tooltip": null,
            "_model_module": "@jupyter-widgets/controls",
            "layout": "IPY_MODEL_9256a5466d9849cab1fdb97ea15f7137"
          }
        },
        "9eeb5ca159dd45d3a932bb494492a607": {
          "model_module": "@jupyter-widgets/controls",
          "model_name": "ProgressStyleModel",
          "state": {
            "_view_name": "StyleView",
            "_model_name": "ProgressStyleModel",
            "description_width": "initial",
            "_view_module": "@jupyter-widgets/base",
            "_model_module_version": "1.5.0",
            "_view_count": null,
            "_view_module_version": "1.2.0",
            "bar_color": null,
            "_model_module": "@jupyter-widgets/controls"
          }
        },
        "007541955c6f4fe282536c3b119c2901": {
          "model_module": "@jupyter-widgets/base",
          "model_name": "LayoutModel",
          "state": {
            "_view_name": "LayoutView",
            "grid_template_rows": null,
            "right": null,
            "justify_content": null,
            "_view_module": "@jupyter-widgets/base",
            "overflow": null,
            "_model_module_version": "1.2.0",
            "_view_count": null,
            "flex_flow": null,
            "width": null,
            "min_width": null,
            "border": null,
            "align_items": null,
            "bottom": null,
            "_model_module": "@jupyter-widgets/base",
            "top": null,
            "grid_column": null,
            "overflow_y": null,
            "overflow_x": null,
            "grid_auto_flow": null,
            "grid_area": null,
            "grid_template_columns": null,
            "flex": null,
            "_model_name": "LayoutModel",
            "justify_items": null,
            "grid_row": null,
            "max_height": null,
            "align_content": null,
            "visibility": null,
            "align_self": null,
            "height": null,
            "min_height": null,
            "padding": null,
            "grid_auto_rows": null,
            "grid_gap": null,
            "max_width": null,
            "order": null,
            "_view_module_version": "1.2.0",
            "grid_template_areas": null,
            "object_position": null,
            "object_fit": null,
            "grid_auto_columns": null,
            "margin": null,
            "display": null,
            "left": null
          }
        },
        "93e4726d1ae143978e2b047f80906bc1": {
          "model_module": "@jupyter-widgets/controls",
          "model_name": "DescriptionStyleModel",
          "state": {
            "_view_name": "StyleView",
            "_model_name": "DescriptionStyleModel",
            "description_width": "",
            "_view_module": "@jupyter-widgets/base",
            "_model_module_version": "1.5.0",
            "_view_count": null,
            "_view_module_version": "1.2.0",
            "_model_module": "@jupyter-widgets/controls"
          }
        },
        "9256a5466d9849cab1fdb97ea15f7137": {
          "model_module": "@jupyter-widgets/base",
          "model_name": "LayoutModel",
          "state": {
            "_view_name": "LayoutView",
            "grid_template_rows": null,
            "right": null,
            "justify_content": null,
            "_view_module": "@jupyter-widgets/base",
            "overflow": null,
            "_model_module_version": "1.2.0",
            "_view_count": null,
            "flex_flow": null,
            "width": null,
            "min_width": null,
            "border": null,
            "align_items": null,
            "bottom": null,
            "_model_module": "@jupyter-widgets/base",
            "top": null,
            "grid_column": null,
            "overflow_y": null,
            "overflow_x": null,
            "grid_auto_flow": null,
            "grid_area": null,
            "grid_template_columns": null,
            "flex": null,
            "_model_name": "LayoutModel",
            "justify_items": null,
            "grid_row": null,
            "max_height": null,
            "align_content": null,
            "visibility": null,
            "align_self": null,
            "height": null,
            "min_height": null,
            "padding": null,
            "grid_auto_rows": null,
            "grid_gap": null,
            "max_width": null,
            "order": null,
            "_view_module_version": "1.2.0",
            "grid_template_areas": null,
            "object_position": null,
            "object_fit": null,
            "grid_auto_columns": null,
            "margin": null,
            "display": null,
            "left": null
          }
        },
        "eee03321f23a4b84adcb8c88be576f74": {
          "model_module": "@jupyter-widgets/controls",
          "model_name": "HBoxModel",
          "state": {
            "_view_name": "HBoxView",
            "_dom_classes": [],
            "_model_name": "HBoxModel",
            "_view_module": "@jupyter-widgets/controls",
            "_model_module_version": "1.5.0",
            "_view_count": null,
            "_view_module_version": "1.5.0",
            "box_style": "",
            "layout": "IPY_MODEL_7a61d5809e09426793b12ea17af25a56",
            "_model_module": "@jupyter-widgets/controls",
            "children": [
              "IPY_MODEL_677a934f590b4e5a854356d140144e30",
              "IPY_MODEL_cee924003a5941e298afd0a0486846f9"
            ]
          }
        },
        "7a61d5809e09426793b12ea17af25a56": {
          "model_module": "@jupyter-widgets/base",
          "model_name": "LayoutModel",
          "state": {
            "_view_name": "LayoutView",
            "grid_template_rows": null,
            "right": null,
            "justify_content": null,
            "_view_module": "@jupyter-widgets/base",
            "overflow": null,
            "_model_module_version": "1.2.0",
            "_view_count": null,
            "flex_flow": null,
            "width": null,
            "min_width": null,
            "border": null,
            "align_items": null,
            "bottom": null,
            "_model_module": "@jupyter-widgets/base",
            "top": null,
            "grid_column": null,
            "overflow_y": null,
            "overflow_x": null,
            "grid_auto_flow": null,
            "grid_area": null,
            "grid_template_columns": null,
            "flex": null,
            "_model_name": "LayoutModel",
            "justify_items": null,
            "grid_row": null,
            "max_height": null,
            "align_content": null,
            "visibility": null,
            "align_self": null,
            "height": null,
            "min_height": null,
            "padding": null,
            "grid_auto_rows": null,
            "grid_gap": null,
            "max_width": null,
            "order": null,
            "_view_module_version": "1.2.0",
            "grid_template_areas": null,
            "object_position": null,
            "object_fit": null,
            "grid_auto_columns": null,
            "margin": null,
            "display": null,
            "left": null
          }
        },
        "677a934f590b4e5a854356d140144e30": {
          "model_module": "@jupyter-widgets/controls",
          "model_name": "FloatProgressModel",
          "state": {
            "_view_name": "ProgressView",
            "style": "IPY_MODEL_6280f6b183ab459f831e0a4941bdfed4",
            "_dom_classes": [],
            "description": " 80%",
            "_model_name": "FloatProgressModel",
            "bar_style": "",
            "max": 117,
            "_view_module": "@jupyter-widgets/controls",
            "_model_module_version": "1.5.0",
            "value": 94,
            "_view_count": null,
            "_view_module_version": "1.5.0",
            "orientation": "horizontal",
            "min": 0,
            "description_tooltip": null,
            "_model_module": "@jupyter-widgets/controls",
            "layout": "IPY_MODEL_139772efaed44e27a4754eb4093ddf58"
          }
        },
        "cee924003a5941e298afd0a0486846f9": {
          "model_module": "@jupyter-widgets/controls",
          "model_name": "HTMLModel",
          "state": {
            "_view_name": "HTMLView",
            "style": "IPY_MODEL_8ecf6dd4fe5749db9929471baf3a0fc3",
            "_dom_classes": [],
            "description": "",
            "_model_name": "HTMLModel",
            "placeholder": "​",
            "_view_module": "@jupyter-widgets/controls",
            "_model_module_version": "1.5.0",
            "value": " 94/117 [01:09&lt;00:16,  1.36it/s]",
            "_view_count": null,
            "_view_module_version": "1.5.0",
            "description_tooltip": null,
            "_model_module": "@jupyter-widgets/controls",
            "layout": "IPY_MODEL_749277b0a60f448a822d9decffeacdea"
          }
        },
        "6280f6b183ab459f831e0a4941bdfed4": {
          "model_module": "@jupyter-widgets/controls",
          "model_name": "ProgressStyleModel",
          "state": {
            "_view_name": "StyleView",
            "_model_name": "ProgressStyleModel",
            "description_width": "initial",
            "_view_module": "@jupyter-widgets/base",
            "_model_module_version": "1.5.0",
            "_view_count": null,
            "_view_module_version": "1.2.0",
            "bar_color": null,
            "_model_module": "@jupyter-widgets/controls"
          }
        },
        "139772efaed44e27a4754eb4093ddf58": {
          "model_module": "@jupyter-widgets/base",
          "model_name": "LayoutModel",
          "state": {
            "_view_name": "LayoutView",
            "grid_template_rows": null,
            "right": null,
            "justify_content": null,
            "_view_module": "@jupyter-widgets/base",
            "overflow": null,
            "_model_module_version": "1.2.0",
            "_view_count": null,
            "flex_flow": null,
            "width": null,
            "min_width": null,
            "border": null,
            "align_items": null,
            "bottom": null,
            "_model_module": "@jupyter-widgets/base",
            "top": null,
            "grid_column": null,
            "overflow_y": null,
            "overflow_x": null,
            "grid_auto_flow": null,
            "grid_area": null,
            "grid_template_columns": null,
            "flex": null,
            "_model_name": "LayoutModel",
            "justify_items": null,
            "grid_row": null,
            "max_height": null,
            "align_content": null,
            "visibility": null,
            "align_self": null,
            "height": null,
            "min_height": null,
            "padding": null,
            "grid_auto_rows": null,
            "grid_gap": null,
            "max_width": null,
            "order": null,
            "_view_module_version": "1.2.0",
            "grid_template_areas": null,
            "object_position": null,
            "object_fit": null,
            "grid_auto_columns": null,
            "margin": null,
            "display": null,
            "left": null
          }
        },
        "8ecf6dd4fe5749db9929471baf3a0fc3": {
          "model_module": "@jupyter-widgets/controls",
          "model_name": "DescriptionStyleModel",
          "state": {
            "_view_name": "StyleView",
            "_model_name": "DescriptionStyleModel",
            "description_width": "",
            "_view_module": "@jupyter-widgets/base",
            "_model_module_version": "1.5.0",
            "_view_count": null,
            "_view_module_version": "1.2.0",
            "_model_module": "@jupyter-widgets/controls"
          }
        },
        "749277b0a60f448a822d9decffeacdea": {
          "model_module": "@jupyter-widgets/base",
          "model_name": "LayoutModel",
          "state": {
            "_view_name": "LayoutView",
            "grid_template_rows": null,
            "right": null,
            "justify_content": null,
            "_view_module": "@jupyter-widgets/base",
            "overflow": null,
            "_model_module_version": "1.2.0",
            "_view_count": null,
            "flex_flow": null,
            "width": null,
            "min_width": null,
            "border": null,
            "align_items": null,
            "bottom": null,
            "_model_module": "@jupyter-widgets/base",
            "top": null,
            "grid_column": null,
            "overflow_y": null,
            "overflow_x": null,
            "grid_auto_flow": null,
            "grid_area": null,
            "grid_template_columns": null,
            "flex": null,
            "_model_name": "LayoutModel",
            "justify_items": null,
            "grid_row": null,
            "max_height": null,
            "align_content": null,
            "visibility": null,
            "align_self": null,
            "height": null,
            "min_height": null,
            "padding": null,
            "grid_auto_rows": null,
            "grid_gap": null,
            "max_width": null,
            "order": null,
            "_view_module_version": "1.2.0",
            "grid_template_areas": null,
            "object_position": null,
            "object_fit": null,
            "grid_auto_columns": null,
            "margin": null,
            "display": null,
            "left": null
          }
        }
      }
    }
  },
  "cells": [
    {
      "cell_type": "markdown",
      "metadata": {
        "id": "view-in-github",
        "colab_type": "text"
      },
      "source": [
        "<a href=\"https://colab.research.google.com/github/SimpleVlad/NeuralNetsExperiments/blob/main/Vanila_GAN_with_MNIST.ipynb\" target=\"_parent\"><img src=\"https://colab.research.google.com/assets/colab-badge.svg\" alt=\"Open In Colab\"/></a>"
      ]
    },
    {
      "cell_type": "code",
      "metadata": {
        "id": "EDSDJT-9-UTW"
      },
      "source": [
        "def run_subprocess_command(cmd):\n",
        "    process = subprocess.Popen(cmd.split(), stdout=subprocess.PIPE)\n",
        "    for line in process.stdout:\n",
        "        print(line.decode().strip())\n",
        "\n",
        "\n",
        "import sys, subprocess\n",
        "\n",
        "IN_COLAB = \"google.colab\" in sys.modules\n",
        "colab_requirements = [\"pip install tf-nightly-gpu-2.0-preview==2.0.0.dev20190513\"]\n",
        "if IN_COLAB:\n",
        "    for i in colab_requirements:\n",
        "        run_subprocess_command(i)"
      ],
      "execution_count": null,
      "outputs": []
    },
    {
      "cell_type": "code",
      "metadata": {
        "id": "-CCn2Ssa-Xj5"
      },
      "source": [
        "import tensorflow as tf\n",
        "import numpy as np\n",
        "import matplotlib.pyplot as plt\n",
        "from tqdm.autonotebook import tqdm\n",
        "%matplotlib inline\n",
        "from IPython import display\n",
        "import pandas as pd"
      ],
      "execution_count": null,
      "outputs": []
    },
    {
      "cell_type": "code",
      "metadata": {
        "colab": {
          "base_uri": "https://localhost:8080/"
        },
        "id": "4VVhQaiS-bJX",
        "outputId": "e1268807-13b2-45e3-f07b-21e308d7aa89"
      },
      "source": [
        "print(tf.__version__)"
      ],
      "execution_count": null,
      "outputs": [
        {
          "output_type": "stream",
          "text": [
            "2.3.0\n"
          ],
          "name": "stdout"
        }
      ]
    },
    {
      "cell_type": "code",
      "metadata": {
        "id": "pZCkz4gX-d5g"
      },
      "source": [
        "TRAIN_BUF=60000\n",
        "BATCH_SIZE=512\n",
        "TEST_BUF=10000\n",
        "DIMS = (28,28,1)\n",
        "N_TRAIN_BATCHES =int(TRAIN_BUF/BATCH_SIZE)\n",
        "N_TEST_BATCHES = int(TEST_BUF/BATCH_SIZE)"
      ],
      "execution_count": null,
      "outputs": []
    },
    {
      "cell_type": "code",
      "metadata": {
        "id": "eIdjpcQ2-gPK"
      },
      "source": [
        "# load dataset\n",
        "(train_images, _), (test_images, _) = tf.keras.datasets.mnist.load_data()\n",
        "\n",
        "# split dataset\n",
        "train_images = train_images.reshape(train_images.shape[0], 28, 28, 1).astype(\n",
        "    \"float32\"\n",
        ") / 255.0\n",
        "test_images = test_images.reshape(test_images.shape[0], 28, 28, 1).astype(\"float32\") / 255.0\n",
        "\n",
        "# batch datasets\n",
        "train_dataset = (\n",
        "    tf.data.Dataset.from_tensor_slices(train_images)\n",
        "    .shuffle(TRAIN_BUF)\n",
        "    .batch(BATCH_SIZE)\n",
        ")\n",
        "test_dataset = (\n",
        "    tf.data.Dataset.from_tensor_slices(test_images)\n",
        "    .shuffle(TEST_BUF)\n",
        "    .batch(BATCH_SIZE)\n",
        ")"
      ],
      "execution_count": null,
      "outputs": []
    },
    {
      "cell_type": "code",
      "metadata": {
        "id": "KMS6pKvn-jj3"
      },
      "source": [
        "class GAN(tf.keras.Model):\n",
        "    \"\"\" a basic GAN class \n",
        "    Extends:\n",
        "        tf.keras.Model\n",
        "    \"\"\"\n",
        "\n",
        "    def __init__(self, **kwargs):\n",
        "        super(GAN, self).__init__()\n",
        "        self.__dict__.update(kwargs)\n",
        "\n",
        "        self.gen = tf.keras.Sequential(self.gen)\n",
        "        self.disc = tf.keras.Sequential(self.disc)\n",
        "\n",
        "    def generate(self, z):\n",
        "        return self.gen(z)\n",
        "\n",
        "    def discriminate(self, x):\n",
        "        return self.disc(x)\n",
        "\n",
        "    def compute_loss(self, x):\n",
        "        \"\"\" passes through the network and computes loss\n",
        "        \"\"\"\n",
        "        # generating noise from a uniform distribution\n",
        "        z_samp = tf.random.normal([x.shape[0], 1, 1, self.n_Z])\n",
        "\n",
        "        # run noise through generator\n",
        "        x_gen = self.generate(z_samp)\n",
        "        # discriminate x and x_gen\n",
        "        logits_x = self.discriminate(x)\n",
        "        logits_x_gen = self.discriminate(x_gen)\n",
        "        ### losses\n",
        "        # losses of real with label \"1\"\n",
        "        disc_real_loss = gan_loss(logits=logits_x, is_real=True)\n",
        "        # losses of fake with label \"0\"\n",
        "        disc_fake_loss = gan_loss(logits=logits_x_gen, is_real=False)\n",
        "        disc_loss = disc_fake_loss + disc_real_loss\n",
        "\n",
        "        # losses of fake with label \"1\"\n",
        "        gen_loss = gan_loss(logits=logits_x_gen, is_real=True)\n",
        "\n",
        "        return disc_loss, gen_loss\n",
        "\n",
        "    def compute_gradients(self, x):\n",
        "        \"\"\" passes through the network and computes loss\n",
        "        \"\"\"\n",
        "        ### pass through network\n",
        "        with tf.GradientTape() as gen_tape, tf.GradientTape() as disc_tape:\n",
        "            disc_loss, gen_loss = self.compute_loss(x)\n",
        "\n",
        "        # compute gradients\n",
        "        gen_gradients = gen_tape.gradient(gen_loss, self.gen.trainable_variables)\n",
        "        disc_gradients = disc_tape.gradient(disc_loss, self.disc.trainable_variables)\n",
        "\n",
        "        return gen_gradients, disc_gradients\n",
        "\n",
        "    def apply_gradients(self, gen_gradients, disc_gradients):\n",
        "\n",
        "        self.gen_optimizer.apply_gradients(\n",
        "            zip(gen_gradients, self.gen.trainable_variables)\n",
        "        )\n",
        "        self.disc_optimizer.apply_gradients(\n",
        "            zip(disc_gradients, self.disc.trainable_variables)\n",
        "        )\n",
        "    @tf.function\n",
        "    def train(self, train_x):\n",
        "        gen_gradients, disc_gradients = self.compute_gradients(train_x)\n",
        "        self.apply_gradients(gen_gradients, disc_gradients)\n",
        "        \n",
        "        \n",
        "def gan_loss(logits, is_real=True):\n",
        "    \"\"\"Computes standard gan loss between logits and labels\n",
        "    \"\"\"\n",
        "    if is_real:\n",
        "        labels = tf.ones_like(logits)\n",
        "    else:\n",
        "        labels = tf.zeros_like(logits)\n",
        "\n",
        "    return tf.compat.v1.losses.sigmoid_cross_entropy(\n",
        "        multi_class_labels=labels, logits=logits\n",
        "    )"
      ],
      "execution_count": null,
      "outputs": []
    },
    {
      "cell_type": "code",
      "metadata": {
        "id": "vPXcs7VA-nR9"
      },
      "source": [
        "N_Z = 64\n",
        "generator = [\n",
        "    tf.keras.layers.Dense(units=7 * 7 * 64, activation=\"relu\"),\n",
        "    tf.keras.layers.Reshape(target_shape=(7, 7, 64)),\n",
        "    tf.keras.layers.Conv2DTranspose(\n",
        "        filters=64, kernel_size=3, strides=(2, 2), padding=\"SAME\", activation=\"relu\"\n",
        "    ),\n",
        "    tf.keras.layers.Conv2DTranspose(\n",
        "        filters=32, kernel_size=3, strides=(2, 2), padding=\"SAME\", activation=\"relu\"\n",
        "    ),\n",
        "    tf.keras.layers.Conv2DTranspose(\n",
        "        filters=1, kernel_size=3, strides=(1, 1), padding=\"SAME\", activation=\"sigmoid\"\n",
        "    ),\n",
        "]\n",
        "\n",
        "discriminator = [\n",
        "    tf.keras.layers.InputLayer(input_shape=DIMS),\n",
        "    tf.keras.layers.Conv2D(\n",
        "        filters=32, kernel_size=3, strides=(2, 2), activation=\"relu\"\n",
        "    ),\n",
        "    tf.keras.layers.Conv2D(\n",
        "        filters=64, kernel_size=3, strides=(2, 2), activation=\"relu\"\n",
        "    ),\n",
        "    tf.keras.layers.Flatten(),\n",
        "    tf.keras.layers.Dense(units=1, activation=None),\n",
        "]"
      ],
      "execution_count": null,
      "outputs": []
    },
    {
      "cell_type": "code",
      "metadata": {
        "id": "gS6WEXE0-qfc"
      },
      "source": [
        "# optimizers\n",
        "gen_optimizer = tf.keras.optimizers.Adam(0.001, beta_1=0.5)\n",
        "disc_optimizer = tf.keras.optimizers.RMSprop(0.005)# train the model\n",
        "# model\n",
        "model = GAN(\n",
        "    gen = generator,\n",
        "    disc = discriminator,\n",
        "    gen_optimizer = gen_optimizer,\n",
        "    disc_optimizer = disc_optimizer,\n",
        "    n_Z = N_Z\n",
        ")"
      ],
      "execution_count": null,
      "outputs": []
    },
    {
      "cell_type": "code",
      "metadata": {
        "id": "aUUSF6Tj-sOn"
      },
      "source": [
        "# exampled data for plotting results\n",
        "def plot_reconstruction(model, nex=8, zm=2):\n",
        "    samples = model.generate(tf.random.normal(shape=(BATCH_SIZE, N_Z)))\n",
        "    fig, axs = plt.subplots(ncols=nex, nrows=1, figsize=(zm * nex, zm))\n",
        "    for axi in range(nex):\n",
        "        axs[axi].matshow(\n",
        "                    samples.numpy()[axi].squeeze(), cmap=plt.cm.Greys, vmin=0, vmax=1\n",
        "                )\n",
        "        axs[axi].axis('off')\n",
        "    plt.show()"
      ],
      "execution_count": null,
      "outputs": []
    },
    {
      "cell_type": "code",
      "metadata": {
        "id": "JJF1fA9m-unD"
      },
      "source": [
        "losses = pd.DataFrame(columns = ['disc_loss', 'gen_loss'])"
      ],
      "execution_count": null,
      "outputs": []
    },
    {
      "cell_type": "code",
      "metadata": {
        "colab": {
          "base_uri": "https://localhost:8080/",
          "height": 175,
          "referenced_widgets": [
            "506bd965cbfb428e87344815f4cafc94",
            "b9f5897413bf409aa7f66384c176e538",
            "6520e03e935e496c8476e664cb460a57",
            "98a774af615242998f5a0711180aa20f",
            "9eeb5ca159dd45d3a932bb494492a607",
            "007541955c6f4fe282536c3b119c2901",
            "93e4726d1ae143978e2b047f80906bc1",
            "9256a5466d9849cab1fdb97ea15f7137",
            "eee03321f23a4b84adcb8c88be576f74",
            "7a61d5809e09426793b12ea17af25a56",
            "677a934f590b4e5a854356d140144e30",
            "cee924003a5941e298afd0a0486846f9",
            "6280f6b183ab459f831e0a4941bdfed4",
            "139772efaed44e27a4754eb4093ddf58",
            "8ecf6dd4fe5749db9929471baf3a0fc3",
            "749277b0a60f448a822d9decffeacdea"
          ]
        },
        "id": "EtvSKfmv-wkv",
        "outputId": "000ad2cb-252d-4a31-d7ab-8bb906cd4fcd"
      },
      "source": [
        "\n",
        "n_epochs = 50\n",
        "for epoch in range(n_epochs):\n",
        "    # train\n",
        "    for batch, train_x in tqdm(\n",
        "        zip(range(N_TRAIN_BATCHES), train_dataset), total=N_TRAIN_BATCHES\n",
        "    ):\n",
        "        model.train(train_x)\n",
        "    # test on holdout\n",
        "    loss = []\n",
        "    for batch, test_x in tqdm(\n",
        "        zip(range(N_TEST_BATCHES), test_dataset), total=N_TEST_BATCHES\n",
        "    ):\n",
        "        loss.append(model.compute_loss(train_x))\n",
        "    losses.loc[len(losses)] = np.mean(loss, axis=0)\n",
        "    # plot results\n",
        "    display.clear_output()\n",
        "    print(\n",
        "        \"Epoch: {} | disc_loss: {} | gen_loss: {}\".format(\n",
        "            epoch, losses.disc_loss.values[-1], losses.gen_loss.values[-1]\n",
        "        )\n",
        "    )\n",
        "    plot_reconstruction(model)\n"
      ],
      "execution_count": null,
      "outputs": [
        {
          "output_type": "stream",
          "text": [
            "Epoch: 13 | disc_loss: 0.7975649833679199 | gen_loss: 1.126533031463623\n"
          ],
          "name": "stdout"
        },
        {
          "output_type": "display_data",
          "data": {
            "image/png": "[encoded data removed]",
            "text/plain": [
              "<Figure size 1152x144 with 8 Axes>"
            ]
          },
          "metadata": {
            "tags": [],
            "needs_background": "light"
          }
        },
        {
          "output_type": "display_data",
          "data": {
            "application/vnd.jupyter.widget-view+json": {
              "model_id": "eee03321f23a4b84adcb8c88be576f74",
              "version_minor": 0,
              "version_major": 2
            },
            "text/plain": [
              "HBox(children=(FloatProgress(value=0.0, max=117.0), HTML(value='')))"
            ]
          },
          "metadata": {
            "tags": []
          }
        }
      ]
    }
  ]
}